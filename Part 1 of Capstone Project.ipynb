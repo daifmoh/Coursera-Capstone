{
    "cells": [
        {
            "cell_type": "markdown",
            "metadata": {
                "collapsed": true
            },
            "source": "# Opening Middle Eastern Restaurants in New York City "
        },
        {
            "cell_type": "markdown",
            "metadata": {},
            "source": "## Introduction\nThe main objective of this project is to analyze the areas in New York city where Middle Eastern Restaurants are available in order to select the optimum location for a new restaurant. The selection will be based on teh nighborhood with minimum number of restaurants.  The analysis will be shared with stakeholders to confirm the location selection."
        },
        {
            "cell_type": "markdown",
            "metadata": {},
            "source": "## Data Collection"
        },
        {
            "cell_type": "markdown",
            "metadata": {},
            "source": "#### Geographical Coordinates\nThe geographical coordinates for New York will be gathered from Python GeoPy library in python.\n\n#### Neighborhoods information:\nThe data of the neighborhoods in New York was collected from  was scraped from https://en.wikipedia.org/wiki/Neighborhoods_in_New_York_City#:~:text=Boroughs,-Main%20article%3A%20Boroughs&text=New%20York%20City%20is%20split,%2C%20Queens%2C%20and%20Staten%20Island. The data will be converted into pandas data frame.\n\n#### Venue information:\nThe venue data will collected from Foursquare API."
        },
        {
            "cell_type": "code",
            "execution_count": null,
            "metadata": {},
            "outputs": [],
            "source": ""
        }
    ],
    "metadata": {
        "kernelspec": {
            "display_name": "Python 3.7",
            "language": "python",
            "name": "python3"
        },
        "language_info": {
            "codemirror_mode": {
                "name": "ipython",
                "version": 3
            },
            "file_extension": ".py",
            "mimetype": "text/x-python",
            "name": "python",
            "nbconvert_exporter": "python",
            "pygments_lexer": "ipython3",
            "version": "3.7.9"
        }
    },
    "nbformat": 4,
    "nbformat_minor": 1
}